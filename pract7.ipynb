{
 "cells": [
  {
   "cell_type": "code",
   "execution_count": 1,
   "id": "d6c47ac5",
   "metadata": {},
   "outputs": [],
   "source": [
    "sentence= \"I will walk a 1000 miles. I would walk a 1000 more.\"\n",
    "sentence1= \"I am a player who enjoys playing a sport where play is very important and game is to be played\""
   ]
  },
  {
   "cell_type": "code",
   "execution_count": 2,
   "id": "683d8908",
   "metadata": {},
   "outputs": [
    {
     "name": "stdout",
     "output_type": "stream",
     "text": [
      "Requirement already satisfied: nltk in c:\\users\\shubham\\anaconda3\\lib\\site-packages (3.8.1)\n",
      "Requirement already satisfied: click in c:\\users\\shubham\\anaconda3\\lib\\site-packages (from nltk) (8.0.4)\n",
      "Requirement already satisfied: joblib in c:\\users\\shubham\\anaconda3\\lib\\site-packages (from nltk) (1.2.0)\n",
      "Requirement already satisfied: regex>=2021.8.3 in c:\\users\\shubham\\anaconda3\\lib\\site-packages (from nltk) (2022.7.9)\n",
      "Requirement already satisfied: tqdm in c:\\users\\shubham\\anaconda3\\lib\\site-packages (from nltk) (4.65.0)\n",
      "Requirement already satisfied: colorama in c:\\users\\shubham\\anaconda3\\lib\\site-packages (from click->nltk) (0.4.6)\n"
     ]
    },
    {
     "name": "stderr",
     "output_type": "stream",
     "text": [
      "[nltk_data] Downloading package punkt to\n",
      "[nltk_data]     C:\\Users\\SHUBHAM\\AppData\\Roaming\\nltk_data...\n",
      "[nltk_data]   Unzipping tokenizers\\punkt.zip.\n"
     ]
    }
   ],
   "source": [
    "!pip install nltk\n",
    "import nltk\n",
    "nltk.download('punkt')\n",
    "from nltk import word_tokenize, sent_tokenize\n",
    "\n"
   ]
  },
  {
   "cell_type": "code",
   "execution_count": 3,
   "id": "a56d562d",
   "metadata": {},
   "outputs": [
    {
     "name": "stdout",
     "output_type": "stream",
     "text": [
      "Tokenized Words : ['I', 'will', 'walk', 'a', '1000', 'miles', '.', 'I', 'would', 'walk', 'a', '1000', 'more', '.']\n",
      "\n",
      " Tokenized Sentences ['I will walk a 1000 miles.', 'I would walk a 1000 more.']\n"
     ]
    }
   ],
   "source": [
    "print(\"Tokenized Words :\", word_tokenize(sentence))\n",
    "print(\"\\n Tokenized Sentences\", sent_tokenize(sentence))"
   ]
  },
  {
   "cell_type": "code",
   "execution_count": 12,
   "id": "e6d52540",
   "metadata": {},
   "outputs": [
    {
     "name": "stderr",
     "output_type": "stream",
     "text": [
      "[nltk_data] Downloading package averaged_perceptron_tagger to\n",
      "[nltk_data]     C:\\Users\\SHUBHAM\\AppData\\Roaming\\nltk_data...\n",
      "[nltk_data]   Unzipping taggers\\averaged_perceptron_tagger.zip.\n"
     ]
    },
    {
     "name": "stdout",
     "output_type": "stream",
     "text": [
      "Tagged POS: [('I', 'PRP'), ('will', 'MD'), ('walk', 'VB'), ('a', 'DT'), ('1000', 'CD'), ('miles', 'NNS'), ('.', '.'), ('I', 'PRP'), ('would', 'MD'), ('walk', 'VB'), ('a', 'DT'), ('1000', 'CD'), ('more', 'JJR'), ('.', '.')]\n"
     ]
    }
   ],
   "source": [
    "from nltk import pos_tag\n",
    "nltk.download('averaged_perceptron_tagger')\n",
    "token= word_tokenize(sentence)\n",
    "tagged= pos_tag(token)\n",
    "\n",
    "print(\"Tagged POS:\", tagged)"
   ]
  },
  {
   "cell_type": "code",
   "execution_count": 13,
   "id": "9438519b",
   "metadata": {},
   "outputs": [
    {
     "name": "stdout",
     "output_type": "stream",
     "text": [
      "Cleaned sentence : ['I', 'walk', '1000', 'miles', '.', 'I', 'would', 'walk', '1000', '.']\n"
     ]
    },
    {
     "name": "stderr",
     "output_type": "stream",
     "text": [
      "[nltk_data] Downloading package stopwords to\n",
      "[nltk_data]     C:\\Users\\SHUBHAM\\AppData\\Roaming\\nltk_data...\n",
      "[nltk_data]   Unzipping corpora\\stopwords.zip.\n"
     ]
    }
   ],
   "source": [
    "nltk.download(\"stopwords\")\n",
    "from nltk.corpus import stopwords\n",
    "\n",
    "stop_words = stopwords.words('english')\n",
    "token= word_tokenize(sentence)\n",
    "clean_sent=[]\n",
    "\n",
    "for word in token:\n",
    "  if word not in stop_words:\n",
    "    clean_sent.append(word)\n",
    "\n",
    "print(\"Cleaned sentence :\", clean_sent)"
   ]
  },
  {
   "cell_type": "code",
   "execution_count": 14,
   "id": "492262fc",
   "metadata": {},
   "outputs": [
    {
     "name": "stdout",
     "output_type": "stream",
     "text": [
      "i am a player who enjoy play a sport where play is veri import and game is to be play\n"
     ]
    }
   ],
   "source": [
    "from nltk.stem import PorterStemmer\n",
    "\n",
    "stemmer= PorterStemmer()\n",
    "\n",
    "token= word_tokenize(sentence1)\n",
    "\n",
    "stemmed= [stemmer.stem(word) for word in token]\n",
    "print(\" \".join(stemmed))"
   ]
  },
  {
   "cell_type": "code",
   "execution_count": 15,
   "id": "d1c2cbfe",
   "metadata": {},
   "outputs": [
    {
     "name": "stderr",
     "output_type": "stream",
     "text": [
      "[nltk_data] Downloading package wordnet to\n",
      "[nltk_data]     C:\\Users\\SHUBHAM\\AppData\\Roaming\\nltk_data...\n"
     ]
    },
    {
     "name": "stdout",
     "output_type": "stream",
     "text": [
      "I am a player who enjoys playing a sport where play is very important and game is to be played\n"
     ]
    }
   ],
   "source": [
    "nltk.download(\"wordnet\")\n",
    "from nltk import WordNetLemmatizer\n",
    "\n",
    "lemma = WordNetLemmatizer()\n",
    "token= word_tokenize(sentence1)\n",
    "\n",
    "lemma_output= [lemma.lemmatize(word) for word in token]\n",
    "print(\" \".join(lemma_output))"
   ]
  },
  {
   "cell_type": "code",
   "execution_count": null,
   "id": "e8b56d9c",
   "metadata": {},
   "outputs": [],
   "source": []
  }
 ],
 "metadata": {
  "kernelspec": {
   "display_name": "Python 3 (ipykernel)",
   "language": "python",
   "name": "python3"
  },
  "language_info": {
   "codemirror_mode": {
    "name": "ipython",
    "version": 3
   },
   "file_extension": ".py",
   "mimetype": "text/x-python",
   "name": "python",
   "nbconvert_exporter": "python",
   "pygments_lexer": "ipython3",
   "version": "3.11.5"
  }
 },
 "nbformat": 4,
 "nbformat_minor": 5
}
